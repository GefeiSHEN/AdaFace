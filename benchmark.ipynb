{
 "cells": [
  {
   "cell_type": "code",
   "execution_count": 9,
   "id": "9b73cb6c-9e01-43d7-9359-5ce60d7c49b2",
   "metadata": {},
   "outputs": [],
   "source": [
    "import numpy as np\n",
    "import torch\n",
    "from sklearn.metrics import accuracy_score, confusion_matrix\n",
    "import os\n",
    "import net\n",
    "from face_alignment import align"
   ]
  },
  {
   "cell_type": "code",
   "execution_count": 7,
   "id": "91a1ef47",
   "metadata": {},
   "outputs": [],
   "source": [
    "def load_pretrained_model(architecture='ir_101'):\n",
    "    # load model and pretrained statedict\n",
    "    assert architecture in model_name.keys()\n",
    "    model = net.build_model(architecture)\n",
    "    statedict = torch.load(model_name[architecture])['state_dict']\n",
    "    model_statedict = {key[6:]:val for key, val in statedict.items() if key.startswith('model.')}\n",
    "    model.load_state_dict(model_statedict)\n",
    "    model.eval()\n",
    "    return model"
   ]
  },
  {
   "cell_type": "code",
   "execution_count": 10,
   "id": "f3c69155",
   "metadata": {},
   "outputs": [],
   "source": [
    "model_name = {\n",
    "    'ir_101':\"pretrained/adaface_ir101_ms1mv2.ckpt\",\n",
    "}\n",
    "\n",
    "model = load_pretrained_model()"
   ]
  },
  {
   "cell_type": "code",
   "execution_count": 13,
   "id": "8397bbf2-d496-404d-8a6d-cbe26880078a",
   "metadata": {},
   "outputs": [],
   "source": [
    "X = []\n",
    "y = []\n",
    "with open('./benchmark/dataset/cplfw/pairs_CPLFW.txt','r') as f:\n",
    "    lines = f.readlines()\n",
    "    for i in range(0, len(lines), 2):\n",
    "        img1, label1 = lines[i].strip().split()\n",
    "        img2, label2 = lines[i+1].strip().split()\n",
    "        \n",
    "        X.append((img1, img2))\n",
    "        y.append(label1 == '1')\n",
    "\n",
    "X = np.array(X)\n",
    "y = np.array(y, dtype=bool)"
   ]
  },
  {
   "cell_type": "code",
   "execution_count": 14,
   "id": "7b3db5aa-edad-4488-b46b-15d27e372bff",
   "metadata": {},
   "outputs": [
    {
     "data": {
      "text/plain": [
       "((6000, 2), (6000,))"
      ]
     },
     "execution_count": 14,
     "metadata": {},
     "output_type": "execute_result"
    }
   ],
   "source": [
    "X.shape, y.shape"
   ]
  },
  {
   "cell_type": "code",
   "execution_count": null,
   "id": "7b20bc60-b785-450a-9e49-73c5fc870ee0",
   "metadata": {},
   "outputs": [],
   "source": []
  }
 ],
 "metadata": {
  "kernelspec": {
   "display_name": "Python 3 (ipykernel)",
   "language": "python",
   "name": "python3"
  },
  "language_info": {
   "codemirror_mode": {
    "name": "ipython",
    "version": 3
   },
   "file_extension": ".py",
   "mimetype": "text/x-python",
   "name": "python",
   "nbconvert_exporter": "python",
   "pygments_lexer": "ipython3",
   "version": "3.8.18"
  }
 },
 "nbformat": 4,
 "nbformat_minor": 5
}
